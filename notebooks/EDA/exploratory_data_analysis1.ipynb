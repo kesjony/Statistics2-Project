{
 "cells": [
  {
   "cell_type": "code",
   "source": [
    "import pandas as pd\n",
    "import os\n",
    "from matplotlib import pyplot as plt\n",
    "print(os.getcwd())\n",
    "data = pd.read_csv('../../Data/Raw/dataset.csv')\n",
    "print(len(data))"
   ],
   "metadata": {
    "collapsed": false,
    "jupyter": {
     "is_executing": true
    },
    "ExecuteTime": {
     "end_time": "2024-11-26T14:13:41.136279Z",
     "start_time": "2024-11-26T14:13:41.119286Z"
    }
   },
   "id": "6dbe1b4b89490469",
   "outputs": [
    {
     "name": "stdout",
     "output_type": "stream",
     "text": [
      "/Users/kesjony1/Technion/ThirdYear/Statistics2/Statistics2-Project/notebooks/EDA\n",
      "4424\n"
     ]
    }
   ],
   "execution_count": 35
  },
  {
   "cell_type": "code",
   "source": "",
   "metadata": {
    "collapsed": false,
    "ExecuteTime": {
     "end_time": "2024-11-30T18:53:36.683120Z",
     "start_time": "2024-11-30T18:53:34.870717Z"
    }
   },
   "id": "a201b332f4630de4",
   "outputs": [
    {
     "ename": "NameError",
     "evalue": "name 'data' is not defined",
     "output_type": "error",
     "traceback": [
      "\u001B[1;31m---------------------------------------------------------------------------\u001B[0m",
      "\u001B[1;31mNameError\u001B[0m                                 Traceback (most recent call last)",
      "Cell \u001B[1;32mIn[1], line 1\u001B[0m\n\u001B[1;32m----> 1\u001B[0m \u001B[38;5;28mprint\u001B[39m(\u001B[43mdata\u001B[49m\u001B[38;5;241m.\u001B[39mtitle)\n",
      "\u001B[1;31mNameError\u001B[0m: name 'data' is not defined"
     ]
    }
   ],
   "execution_count": 1
  },
  {
   "cell_type": "code",
   "source": [
    "import pandas as pd\n",
    "import numpy as np\n",
    "import seaborn as sns\n",
    "# Load the dataset\n",
    "data = pd.read_csv('../../Data/Raw/dataset.csv')\n",
    "\n",
    "# Convert categorical 'Target' to numeric for analysis (e.g., Dropout: 0, Graduate: 1)\n",
    "data['Target'] = data['Target'].map({'Dropout': 0, 'Graduate': 1})\n",
    "missing_values = df.isnull().sum()\n",
    "print(\"Missing Values:\\n\", missing_values)\n",
    "\n",
    "# Check for outliers using IQR method for numeric columns\n",
    "numeric_cols = [\"Curricular units 1st year (credited)\", \"Curricular units 2nd semester (credited)\"]\n",
    "for col in numeric_cols:\n",
    "    Q1 = df[col].quantile(0.25)\n",
    "    Q3 = df[col].quantile(0.75)\n",
    "    IQR = Q3 - Q1\n",
    "    lower_bound = Q1 - 1.5 * IQR\n",
    "    upper_bound = Q3 + 1.5 * IQR\n",
    "    outliers = df[(df[col] < lower_bound) | (df[col] > upper_bound)]\n",
    "    print(f\"Outliers in {col}:\\n\", outliers)\n",
    "\n",
    "# Summary statistics for numeric columns\n",
    "print(\"\\nStatistical Summary for Numeric Columns:\")\n",
    "print(df[numeric_cols].describe())\n",
    "\n",
    "# Visualization for numeric columns\n",
    "for col in numeric_cols:\n",
    "    plt.figure(figsize=(12, 5))\n",
    "    plt.subplot(1, 2, 1)\n",
    "    sns.histplot(df[col], kde=True, bins=10)\n",
    "    plt.title(f\"Histogram of {col}\")\n",
    "    plt.subplot(1, 2, 2)\n",
    "    sns.boxplot(x=df[col])\n",
    "    plt.title(f\"Boxplot of {col}\")\n",
    "    plt.tight_layout()\n",
    "    plt.show()\n",
    "\n",
    "# Visualization for categorical columns\n",
    "categorical_cols = [\"gender\", \"international student\"]\n",
    "for col in categorical_cols:\n",
    "    plt.figure(figsize=(6, 4))\n",
    "    sns.countplot(x=col, data=df)\n",
    "    plt.title(f\"Distribution of {col}\")\n",
    "    plt.show()"
   ],
   "metadata": {
    "collapsed": false,
    "ExecuteTime": {
     "end_time": "2024-11-30T20:11:06.388297Z",
     "start_time": "2024-11-30T20:11:06.316303Z"
    }
   },
   "id": "fabf92932ab655a8",
   "outputs": [
    {
     "name": "stdout",
     "output_type": "stream",
     "text": [
      "4424\n",
      "0       0\n",
      "1       0\n",
      "2       0\n",
      "3       0\n",
      "4       0\n",
      "       ..\n",
      "4419    0\n",
      "4420    1\n",
      "4421    0\n",
      "4422    0\n",
      "4423    1\n",
      "Name: International, Length: 4424, dtype: int64\n",
      "110\n"
     ]
    }
   ],
   "execution_count": 15
  },
  {
   "cell_type": "code",
   "outputs": [],
   "source": [],
   "metadata": {
    "collapsed": false,
    "ExecuteTime": {
     "end_time": "2024-11-26T14:13:44.846240Z",
     "start_time": "2024-11-26T14:13:44.844867Z"
    }
   },
   "id": "a035db008f2ebd74",
   "execution_count": 37
  }
 ],
 "metadata": {
  "kernelspec": {
   "display_name": "Python 3",
   "language": "python",
   "name": "python3"
  },
  "language_info": {
   "codemirror_mode": {
    "name": "ipython",
    "version": 2
   },
   "file_extension": ".py",
   "mimetype": "text/x-python",
   "name": "python",
   "nbconvert_exporter": "python",
   "pygments_lexer": "ipython2",
   "version": "2.7.6"
  }
 },
 "nbformat": 4,
 "nbformat_minor": 5
}
